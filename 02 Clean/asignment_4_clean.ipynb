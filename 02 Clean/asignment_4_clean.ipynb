{
 "cells": [
  {
   "cell_type": "code",
   "execution_count": 1,
   "metadata": {},
   "outputs": [],
   "source": [
    "from nltk.tokenize import word_tokenize\n",
    "from nltk.corpus import stopwords\n",
    "import requests\n",
    "import string\n",
    "import pandas as pd\n",
    "\n",
    "#nltk.download('stopwords')\n",
    "#nltk.download('punkt')"
   ]
  },
  {
   "cell_type": "code",
   "execution_count": 2,
   "metadata": {},
   "outputs": [],
   "source": [
    "#Load data \n",
    "url = \"https://raw.githubusercontent.com/moniqueardizzi/bda102assignment4/master/Mining/tweets_2_with_sentiment.csv\"\n",
    "df_tweets = pd.read_csv(url)\n"
   ]
  },
  {
   "cell_type": "code",
   "execution_count": 53,
   "metadata": {},
   "outputs": [],
   "source": [
    "#define townization and cleaning functions\n",
    "def tokenize_and_clean(s) :\n",
    "    #parse the string into tokens\n",
    "    tokens = word_tokenize(s)\n",
    "    \n",
    "    clean_tokens = []\n",
    "    for t in tokens :\n",
    "        ct = clean_token(t)\n",
    "        if ct != None :\n",
    "            clean_tokens.append(ct)\n",
    "\n",
    "    return ' '.join(clean_tokens)\n",
    "\n",
    "def clean_token(t) :\n",
    "    \n",
    "    #build tranformation table for puncuation\n",
    "    punc_tbl = str.maketrans('', '', string.punctuation)\n",
    "    \n",
    "    #get list of stop workds\n",
    "    stop_words = set(stopwords.words('english'))\n",
    "    \n",
    "    #convert to lower \n",
    "    t = t.lower()\n",
    "    \n",
    "    #only keep alpha words\n",
    "    if not t.isalpha() :\n",
    "        t = ''    \n",
    "\n",
    "    #remove any remaining puncuation\n",
    "    t = t.translate(punc_tbl)\n",
    "    \n",
    "    #null out stop words\n",
    "    if t in stop_words :\n",
    "            t = ''   \n",
    "            \n",
    "    #remove any remaining two and one letter words \n",
    "    if len(t) < 3 :\n",
    "        t = ''\n",
    "\n",
    "    if t != '' :\n",
    "        return t\n",
    "    else :\n",
    "        return None\n"
   ]
  },
  {
   "cell_type": "code",
   "execution_count": 54,
   "metadata": {},
   "outputs": [],
   "source": [
    "#Apply tokenization and cleaning to all rows and store results in new column  \n",
    "df_tweets[\"tokenized_cleaned\"] = [tokenize_and_clean(r['Tweet']) for i, r in df_tweets.iterrows()]"
   ]
  },
  {
   "cell_type": "code",
   "execution_count": 56,
   "metadata": {},
   "outputs": [],
   "source": [
    "#save to csv\n",
    "df_tweets.to_csv('./tweets_2_with_sentiment_and_clean.csv')"
   ]
  },
  {
   "cell_type": "code",
   "execution_count": null,
   "metadata": {},
   "outputs": [],
   "source": []
  }
 ],
 "metadata": {
  "kernelspec": {
   "display_name": "Python 3.6",
   "language": "python",
   "name": "python36"
  },
  "language_info": {
   "codemirror_mode": {
    "name": "ipython",
    "version": 3
   },
   "file_extension": ".py",
   "mimetype": "text/x-python",
   "name": "python",
   "nbconvert_exporter": "python",
   "pygments_lexer": "ipython3",
   "version": "3.6.3"
  }
 },
 "nbformat": 4,
 "nbformat_minor": 2
}
