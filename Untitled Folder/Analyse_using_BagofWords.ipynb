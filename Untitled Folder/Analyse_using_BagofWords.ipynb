{
 "cells": [
  {
   "cell_type": "code",
   "execution_count": 90,
   "metadata": {
    "scrolled": false
   },
   "outputs": [
    {
     "ename": "NameError",
     "evalue": "name 'read_csv' is not defined",
     "output_type": "error",
     "traceback": [
      "\u001b[1;31m---------------------------------------------------------------------------\u001b[0m",
      "\u001b[1;31mNameError\u001b[0m                                 Traceback (most recent call last)",
      "\u001b[1;32m<ipython-input-90-8da6bda83139>\u001b[0m in \u001b[0;36m<module>\u001b[1;34m()\u001b[0m\n\u001b[0;32m      7\u001b[0m \u001b[1;31m##Import data file to be analyzed\u001b[0m\u001b[1;33m\u001b[0m\u001b[1;33m\u001b[0m\u001b[0m\n\u001b[0;32m      8\u001b[0m \u001b[1;32mimport\u001b[0m \u001b[0mpandas\u001b[0m \u001b[1;32mas\u001b[0m \u001b[0mpd\u001b[0m\u001b[1;33m\u001b[0m\u001b[0m\n\u001b[1;32m----> 9\u001b[1;33m \u001b[0mdata\u001b[0m\u001b[1;33m=\u001b[0m\u001b[0mread_csv\u001b[0m\u001b[1;33m(\u001b[0m\u001b[1;34m'tweets_2_study_with_predicted_sentiment.csv'\u001b[0m\u001b[1;33m,\u001b[0m \u001b[0mencoding\u001b[0m\u001b[1;33m=\u001b[0m\u001b[1;34m'utf-8'\u001b[0m\u001b[1;33m)\u001b[0m\u001b[1;33m\u001b[0m\u001b[0m\n\u001b[0m",
      "\u001b[1;31mNameError\u001b[0m: name 'read_csv' is not defined"
     ]
    }
   ],
   "source": [
    "##Set working directory\n",
    "import os\n",
    "os.getcwd()\n",
    "os.chdir('C:\\\\Users\\\\mraguna\\\\Desktop\\\\BDA 102\\\\Assignment4\\\\bda102assignment4\\\\Model Building\\\\')\n",
    "\n",
    "\n",
    "##Import data file to be analyzed\n",
    "import pandas as pd\n",
    "data=read_csv('tweets_2_study_with_predicted_sentiment.csv', encoding='utf-8')"
   ]
  },
  {
   "cell_type": "code",
   "execution_count": 91,
   "metadata": {},
   "outputs": [],
   "source": [
    "import pandas as pd\n",
    "from sklearn import svm\n",
    "from sklearn.feature_extraction.text import CountVectorizer\n",
    "\n",
    "import os\n",
    "os.getcwd()\n",
    "os.chdir('C:\\\\Users\\\\mraguna\\\\Desktop\\\\BDA 102\\\\Assignment4\\\\bda102assignment4\\\\Model Building\\\\')\n",
    "\n",
    "#data = pd.read_csv(open('tweets_2_study_with_predicted_sentiment.csv'),sep=',')\n",
    "\n",
    "data2 = pd.read_csv('tweets_2_study_with_predicted_sentiment.csv',encoding='utf-8')\n"
   ]
  },
  {
   "cell_type": "code",
   "execution_count": 97,
   "metadata": {},
   "outputs": [],
   "source": [
    "##Counting the occurrences of all words in the file\n",
    "\n",
    "from sklearn.feature_extraction.text import CountVectorizer\n",
    "vec1=CountVectorizer()\n",
    "textv=vec1.fit_transform(data2)\n",
    "textva=textv.toarray()\n",
    "#print(vec1.vocabulary_)\n"
   ]
  },
  {
   "cell_type": "code",
   "execution_count": 178,
   "metadata": {
    "collapsed": true
   },
   "outputs": [
    {
     "name": "stdout",
     "output_type": "stream",
     "text": [
      "{'afuahirsch': 14, 'talks': 799, 'wisely': 894, 'legalisecannabis': 445, 'debate': 204, 'bbcqt': 63, 'complex': 156, 'issue': 399, 'requiring': 679, 'sophisticated': 755, 'https': 368, 'tweradio': 842, 'kentcovington': 419, 'reports': 675, 'today': 824, 'news': 549, 'covering': 179, 'executiveorder': 265, 'marijuananews': 499, 'dowjones': 230, 'solidarityscot': 751, 'cannabis': 108, 'completely': 155, 'legalised': 446, 'legalise': 444, 'regulate': 671, 'tax': 800, 'stop': 779, 'stupid': 787, 'drugs': 238, 'govcanhealth': 321, 'cdnminhealth': 124, 'minister': 518, 'justicecanadaen': 413, 'pleased': 599, 'announce': 30, 'bill': 75, 'puglaas': 645, 'see': 713, 'receive': 663, 'royal': 695, 'assent': 47, 'bills': 77, 'represent': 676, 'historic': 356, 'law': 434, 'reform': 669, 'built': 91, 'policy': 604, 'ravie': 656, 'voir': 868, 'recevoir': 665, 'sanction': 705, 'royale': 697, 'ils': 377, 'représentent': 677, 'une': 847, 'réforme': 699, 'législative': 484, 'historique': 357, 'fondée': 291, 'sur': 794, 'des': 215, 'remploymentlaw': 674, 'govt': 324, 'marijuana': 497, 'legalization': 448, 'passed': 586, 'senate': 718, 'vote': 869, 'june': 411, 'resulting': 681, 'new': 548, 'strengthen': 784, 'impaired': 378, 'driving': 233, 'laws': 435, 'help': 346, 'better': 72, 'bbcquestiontime': 64, 'ffs': 279, 'enough': 255, 'research': 680, 'netherlands': 546, 'portugal': 610, 'canada': 101, 'stoner': 776, 'nature': 542, 'thesmokesupplier': 814, 'cannabiscommunity': 110, 'cannabisculture': 111, 'cannabiscup': 112, 'gptaylormrd': 325, 'official': 562, 'act': 6, 'received': 664, 'become': 67, 'legal': 442, 'bctruckingassoc': 65, 'please': 598, 'note': 555, 'illegal': 376, 'take': 797, 'across': 5, 'international': 394, 'borders': 83, 'tgtourism': 807, 'primo': 627, 'paese': 576, 'del': 210, 'che': 133, 'dice': 218, 'uso': 855, 'ricreativo': 685, 'della': 212, 'banks': 57, 'working': 902, 'businesses': 92, 'despite': 217, 'federal': 275, 'moves': 531, 'via': 862, 'forbes': 292, 'cannabiz': 118, 'csgordoncrossan': 187, 'first': 284, 'change': 128, 'generation': 306, 'minjusticeen': 519, 'worked': 901, 'hard': 341, 'make': 492, 'roads': 688, 'safer': 701, 'everyone': 262, 'happy': 340, 'way': 878, 'step': 773, 'cannabiscures': 113, 'viper': 866, 'extracts': 269, 'highlife': 354, 'imtoohigh': 383, 'wax': 877, 'secondkingdom': 711, 'cenastor': 126, 'love': 478, 'seeing': 715, 'wait': 871, 'till': 819, 'walk': 873, 'store': 780, 'get': 307, 'weed': 882, 'set': 726, 'nation': 539, 'mandymcknight': 494, 'personally': 591, 'prefer': 618, 'revere': 683, 'honour': 363, 'scientists': 708, 'professionals': 633, 'contributed': 167, 'current': 190, 'ygreck': 909, 'loi': 471, 'adoptée': 11, 'polcan': 602, 'polqc': 608, 'assnat': 48, 'justintrudeau': 415, 'dsouthafrica': 239, 'dagga': 193, 'southafrica': 757, 'legalizeit': 452, 'breakthetaboo': 86, 'stonerfam': 777, 'namaste': 536, 'date': 198, 'recreational': 667, 'october': 560, 'year': 905, 'dawn': 201, 'jeffflake': 401, 'chickens': 135, 'within': 896, 'miles': 516, 'dispensary': 220, 'want': 875, 'grow': 331, 'thegreendailyy': 811, 'well': 888, 'trudeau': 833, 'announces': 32, 'oct': 559, 'sensiblemj': 722, 'got': 319, 'enthusiastic': 257, 'decrim': 206, 'supporters': 792, 'cle': 143, 'come': 150, 'beach': 66, 'house': 367, 'sign': 733, 'philip': 593, 'levine': 461, 'opioid': 571, 'crisis': 185, 'race': 653, 'boynton': 85, 'winning': 893, 'smart': 742, 'move': 530, 'big': 73, 'win': 891, 'economy': 243, 'witnessed': 897, 'end': 252, 'years': 906, 'prohibition': 635, 'tyrellpacino': 844, 'ceo': 127, 'prgcoin': 625, 'jessica': 403, 'versteeg': 860, 'words': 899, 'telling': 802, 'cannabisindustry': 116, 'read': 657, 'jessversteeg': 404, 'seblebanon': 710, 'growing': 332, 'market': 502, 'exporters': 268, 'fdi': 274, 'medicalmarijuana': 513, 'industry': 388, 'cannabisact': 109, 'medicalcannabis': 512, 'passing': 587, 'nations': 541, 'expected': 267, 'exceed': 264, 'milestone': 517, 'process': 630, 'legalizing': 453, 'strictly': 785, 'korydub': 426, 'donald': 226, 'trump': 837, 'president': 623, 'united': 849, 'states': 770, 'started': 768, 'concentration': 157, 'camps': 100, 'time': 820, 'jodieemery': 407, 'political': 605, 'cowardice': 180, 'liberals': 462, 'majority': 491, 'gov': 320, 'amp': 28, 'pass': 585, 'last': 432, 'moment': 523, 'day': 202, 'two': 843, 'products': 632, 'california': 95, 'famous': 272, 'coming': 151, 'together': 825, 'justicecanadafr': 414, 'projet': 636, 'est': 259, 'maintenant': 490, 'premier': 620, 'changement': 129, 'apporté': 35, 'aux': 52, 'lois': 472, 'canadiennes': 105, 'claudiabruggen': 142, 'ondertussen': 568, 'bau': 62, 'hier': 351, 'dus': 240, 'stelt': 772, 'het': 349, 'college': 149, 'wederom': 881, 'vraag': 870, 'zwolle': 913, 'meedoet': 515, 'aan': 0, 'wietproef': 890, 'marijuanadecriminalization': 498, 'real': 659, 'loud': 476, 'firing': 283, 'grade': 326, 'buds': 90, 'deck': 205, 'smoking': 746, 'smokincountryonhot': 745, 'smoke': 743, 'kush': 428, 'officiel': 564, 'reçu': 684, 'matin': 504, 'sera': 724, 'légal': 482, 'lecannabiste': 441, 'main': 489, 'fer': 278, 'dans': 197, 'gant': 305, 'chanvre': 131, 'légalise': 483, 'septembre': 723, 'hocchamber': 361, 'thank': 808, 'mojag': 522, 'truly': 836, 'work': 900, 'great': 328, 'ukleap': 845, 'unfortunately': 848, 'huge': 369, 'strawman': 783, 'arguments': 40, 'using': 854, 'argument': 39, 'hear': 345, 'neighbors': 544, 'north': 554, 'congrats': 160, 'contact': 164, 'private': 628, 'sale': 704, 'domelord': 224, 'utter': 856, 'hypocrisy': 372, 'kicker': 422, 'tbt': 801, 'cup': 189, 'growsisters': 335, 'sisters': 736, 'sisterhood': 735, 'gonzotrucker': 317, 'friend': 301, 'smoked': 744, 'cigarette': 140, 'munchies': 532, 'show': 730, 'thanks': 809, 'holding': 362, 'monthly': 526, 'contest': 166, 'starting': 769, 'thehotbox': 812, 'top': 828, 'conservative': 162, 'politician': 606, 'calling': 96, 'legalized': 451, 'cannabisincanada': 115, 'course': 176, 'joerogan': 408, 'successful': 788, 'results': 682, 'dmt': 221, 'mdma': 509, 'mushrooms': 533, 'lucky': 480, 'pacfanx': 575, 'guy': 338, 'said': 703, 'contains': 165, 'chemicals': 134, 'many': 495, 'found': 295, 'tobacco': 823, 'robbinsgroupllc': 689, 'tks': 822, 'insomnia': 390, 'event': 261, 'tonight': 827, 'sanfrancisco': 706, 'cannabeer': 107, 'bière': 78, 'artisanale': 45, 'alimentation': 19, 'cosmétique': 173, 'feds': 276, 'pushing': 648, 'back': 55, 'occupationalsafety': 558, 'chocolope': 138, 'fem': 277, 'strains': 782, 'hemp': 348, 'usa': 851, 'europe': 260, 'congratulations': 161, 'becoming': 68, 'industrialized': 387, 'world': 903, 'legalize': 450, 'wakeandbake': 872, 'gethigh': 308, 'coffee': 148, 'mmj': 521, 'pot': 613, 'puffandpass': 644, 'weedsociety': 884, 'weedstagram': 885, 'dondavies': 227, 'week': 886, 'parliament': 581, 'positively': 612, 'social': 748, 'economic': 242, 'attitudes': 50, 'toward': 831, 'cleaner': 144, 'use': 852, 'cut': 191, 'black': 79, 'concerned': 158, 'adolescents': 10, 'access': 4, 'legalisation': 443, 'drug': 235, 'hashtag': 344, 'cbd': 123, 'hashish': 343, 'shatter': 728, 'dabs': 192, 'bonghits': 82, 'green': 329, 'wave': 876, 'globe': 311, 'decriminalize': 208, 'history': 358, 'police': 603, 'allowing': 21, 'cities': 141, 'dispensaries': 219, 'banning': 58, 'lounges': 477, 'arrests': 43, 'four': 296, 'yes': 907, 'tsx': 838, 'hitting': 360, 'record': 666, 'highs': 355, 'golf': 315, 'golfer': 316, 'toke': 826, 'blunts': 81, 'davestudio': 199, 'pas': 584, 'tout': 830, 'qui': 651, 'three': 818, 'full': 302, 'grown': 333, 'plants': 596, 'magically': 488, 'appear': 33, 'nan': 537, 'doorstep': 228, 'fast': 273, 'sly': 740, 'stefostrander': 771, 'made': 486, 'happen': 339, 'rock': 691, 'changing': 130, 'canadian': 102, 'soon': 754, 'largest': 431, 'country': 175, 'daviddinenberg': 200, 'rokhanna': 692, 'american': 27, 'people': 589, 'spoken': 762, 'inspctorchronic': 391, 'landed': 429, 'job': 406, 'opening': 569, 'area': 38, 'thesupremefire': 815, 'lots': 475, 'ideas': 375, 'shared': 727, 'dropping': 234, 'knowledge': 425, 'ideacity': 374, 'ohcanada': 565, 'ottawa': 574, 'stoners': 778, 'investors': 397, 'rejoice': 672, 'commdiginews': 152, 'mayajama': 506, 'omg': 567, 'would': 904, 'sick': 732, 'maya': 505, 'stormzy': 781, 'could': 174, 'cannabisnews': 117, 'texas': 806, 'republicans': 678, 'support': 790, 'decriminalization': 207, 'endourpain': 254, 'zieloni': 912, 'kanada': 417, 'jako': 400, 'drugi': 236, 'kraj': 427, 'świecie': 914, 'legalizuje': 454, 'marihuanę': 496, 'dowód': 231, 'stara': 766, 'polityka': 607, 'walki': 874, 'narkotykami': 538, 'nie': 553, 'działa': 241, 'mormon': 529, 'church': 139, 'battling': 61, 'linked': 469, 'pharma': 592, 'stocks': 775, 'join': 409, 'conversation': 168, 'bringpeopletogether': 87, 'witchymermaid': 895, 'libertarian': 463, 'add': 9, 'testing': 805, 'finish': 282, 'line': 468, 'afterworkwellness': 13, 'means': 510, 'rollingstone': 693, 'thc': 810, 'senjohnmccain': 720, 'ipoliticsca': 398, 'friday': 300, 'scoop': 709, 'looming': 474, 'showdown': 731, 'dalla': 194, 'foglia': 289, 'alla': 20, 'marja': 500, 'parliamdidroghe': 580, 'radicali': 654, 'radicalimilano': 655, 'theomoudakis': 813, 'cartoon': 121, 'torontostar': 829, 'mood': 528, 'weedporn': 883, 'pnwstoner': 600, 'maryjane': 503, 'dank': 195, 'really': 661, 'cool': 169, 'mygrowspotned': 534, 'think': 816, 'potwallet': 616, 'potcoin': 614, 'solid': 750, 'solution': 752, 'crypto': 186, 'good': 318, 'america': 26, 'realdonaldtrump': 660, 'supported': 791, 'eliminate': 249, 'jzamundu': 416, 'free': 299, 'arrested': 42, 'selling': 717, 'makes': 493, 'sense': 721, 'alberta': 17, 'surpassing': 796, 'cooler': 170, 'skunk': 738, 'dominates': 225, 'focused': 288, 'potential': 615, 'risk': 687, 'posed': 611, 'users': 853, 'question': 650, 'lighting': 465, 'serious': 725, 'fishy': 285, 'shit': 729, 'going': 314, 'around': 41, 'legalising': 447, 'simple': 734, 'smooth': 747, 'fourtwentey': 297, 'podcast': 601, 'instead': 392, 'parents': 579, 'grandparents': 327, 'part': 582, 'naive': 535, 'wheretobuyvapes': 889, 'piece': 595, 'kit': 423, 'like': 466, 'everything': 263, 'compact': 153, 'organized': 573, 'employers': 251, 'need': 543, 'impairment': 379, 'include': 384, 'follow': 290, 'page': 577, 'legalizationfl': 449, 'alt': 23, 'thirty': 817, 'six': 737, 'payment': 588, 'platform': 597, 'specifically': 759, 'designed': 216, 'tuesday': 839, 'aswell': 49, 'medical': 511, 'almost': 22, 'government': 322, 'likes': 467, 'fact': 270, 'pain': 578, 'medicine': 514, 'group': 330, 'cancels': 106, 'doctor': 222, 'training': 832, 'doctors': 223, 'learn': 439, 'supreme': 793, 'court': 177, 'fly': 287, 'bought': 84, 'legally': 455, 'bloomthc': 80, 'opentable': 570, 'start': 767, 'hour': 366, 'high': 352, 'cocktails': 146, 'madisononpark': 487, 'gmweho': 312, 'mcrci': 508, 'looks': 473, 'senateca': 719, 'approved': 36, 'proceed': 629, 'await': 53, 'proclamation': 631, 'qnp': 649, 'sure': 795, 'hop': 365, 'cannabus': 120, 'cannabisfest': 114, 'sponsored': 763, 'ampleorganics': 29, 'networking': 547, 'opportunity': 572, 'hydropothecary': 370, 'taken': 798, 'giant': 309, 'forward': 294, 'leader': 437, 'true': 835, 'dedication': 209, 'cultivators': 188, 'money': 524, 'edibles': 244, 'unsure': 850, 'right': 686, 'dose': 229, 'always': 24, 'remember': 673, 'low': 479, 'slow': 739, 'oklahoma': 566, 'expect': 266, 'jeffsessions': 402, 'wealthy': 880, 'fully': 303, 'freaking': 298, 'agree': 15, 'implemented': 380, 'let': 458, 'ask': 46, 'sabrinarmf': 700, 'yvrscreenscene': 910, 'budempire': 89, 'airing': 16, 'tuesdays': 840, 'historytvcanada': 359, 'especially': 258, 'impressed': 381, 'ella': 250, 'spikedonline': 760, 'views': 865, 'nhs': 552, 'spot': 764, 'bet': 71, 'puff': 643, 'justathought': 412, 'bigpharma': 74, 'druglord': 237, 'trudope': 834, 'regime': 670, 'ended': 253, 'landmark': 430, 'legislation': 456, 'lays': 436, 'including': 385, 'maddcanada': 485, 'individual': 386, 'chapters': 132, 'fighting': 280, 'tweeterreynolds': 841, 'cannabizsocial': 119, 'lisa': 470, 'campbell': 99, 'portfolio': 609, 'specialist': 758, 'lifford': 464, 'wine': 892, 'spirits': 761, 'helping': 347, 'dankmemes': 196, 'impt': 382, 'insurance': 393, 'flames': 286, 'premature': 619, 'zenabis': 911, 'mark': 501, 'calendars': 94, 'hideserthealing': 350, 'video': 864, 'valens': 857, 'groworks': 334, 'corp': 171, 'valensgroworks': 858, 'cnsx': 145, 'vgw': 861, 'proud': 639, 'philipauthier': 594, 'election': 248, 'party': 583, 'promises': 637, 'amend': 25, 'give': 310, 'god': 313, 'security': 712, 'safety': 702, 'finally': 281, 'construction': 163, 'joke': 410, 'billblair': 76, 'stephaniekusie': 774, 'kenya': 420, 'congradulations': 159, 'nationalpost': 540, 'basically': 59, 'appears': 34, 'reading': 658, 'article': 44, 'perfectly': 590, 'guidolonghitano': 337, 'reduce': 668, 'crime': 183, 'moneyinpolitics': 525, 'guess': 336, 'code': 147, 'campaign': 98, 'cash': 122, 'hyped': 371, 'running': 698, 'interview': 395, 'celebrated': 125, 'intlcbc': 396, 'wonder': 898, 'abcadelaide': 1, 'understands': 846, 'reason': 662, 'keep': 418, 'away': 54, 'nytimes': 556, 'editorial': 245, 'newyork': 550, 'small': 741, 'acb': 3, 'aurora': 51, 'welcomes': 887, 'quick': 652, 'idea': 373, 'rough': 694, 'presentation': 622, 'besides': 70, 'absolutely': 2, 'alcohol': 18, 'harmful': 342, 'save': 707, 'public': 640, 'purse': 647, 'sqwabb': 765, 'publicrelations': 641, 'pull': 646, 'socks': 749, 'baked': 56, 'neighbours': 545, 'south': 756, 'chill': 137, 'jimharris': 405, 'canadians': 104, 'prescriptions': 621, 'cam': 97, 'battley': 60, 'chief': 136, 'corporate': 172, 'officer': 561, 'fortified': 293, 'active': 7, 'vape': 859, 'enthusiast': 256, 'vitamins': 867, 'ejuice': 247, 'officially': 563, 'approving': 37, 'robinlauri': 690, 'seems': 716, 'insanely': 389, 'lucrative': 481, 'obviously': 557, 'prevents': 624, 'criminals': 184, 'minors': 520, 'next': 551, 'know': 424, 'progressive': 634, 'leadership': 438, 'least': 440, 'fakenews': 271, 'something': 753, 'price': 626, 'yesterday': 908, 'announced': 31, 'bud': 88, 'tender': 804, 'cover': 178, 'letter': 460, 'template': 803, 'timwben': 821, 'seeds': 714, 'compare': 154, 'crack': 181, 'highcanadarocks': 353, 'keynotespeaker': 421, 'mayors': 507, 'governors': 323, 'efforts': 246, 'demanding': 214, 'legit': 457, 'lets': 459, 'games': 304, 'begin': 69, 'canadiangoverment': 103, 'delay': 211, 'publicsectorcomms': 642, 'stronger': 786, 'created': 182, 'ppl': 617, 'buying': 93, 'supply': 789, 'demand': 213, 'victory': 863, 'ways': 879, 'activists': 8, 'advocates': 12, 'months': 527, 'days': 203, 'later': 433, 'hood': 364, 'prophet': 638, 'dream': 232, 'royalassent': 696}\n"
     ]
    }
   ],
   "source": [
    "#train_x=train_tweets['tokenized_cleaned'].tolist()\n",
    "\n",
    "pos_tweets_df=data2.loc[data2['Sentiment'] == 'Positive']\n",
    "\n",
    "\n",
    "#pcols = list(pos_tweets_df.loc['Sentiment'])\n",
    "pos_tweets_words=pos_tweets_df['tokenized_cleaned'].tolist()\n",
    "\n",
    "\n",
    "from sklearn.feature_extraction.text import CountVectorizer\n",
    "vec1pos=CountVectorizer()\n",
    "vec1pos.fit_transform(pos_tweets_words)\n",
    "print(vec1pos.vocabulary_)"
   ]
  },
  {
   "cell_type": "code",
   "execution_count": 177,
   "metadata": {},
   "outputs": [
    {
     "data": {
      "text/html": [
       "<div>\n",
       "<style scoped>\n",
       "    .dataframe tbody tr th:only-of-type {\n",
       "        vertical-align: middle;\n",
       "    }\n",
       "\n",
       "    .dataframe tbody tr th {\n",
       "        vertical-align: top;\n",
       "    }\n",
       "\n",
       "    .dataframe thead th {\n",
       "        text-align: right;\n",
       "    }\n",
       "</style>\n",
       "<table border=\"1\" class=\"dataframe\">\n",
       "  <thead>\n",
       "    <tr style=\"text-align: right;\">\n",
       "      <th></th>\n",
       "      <th>Unnamed: 0</th>\n",
       "      <th>Row_Number</th>\n",
       "      <th>Tweet_Num</th>\n",
       "      <th>Tweet</th>\n",
       "      <th>tokenized_cleaned</th>\n",
       "      <th>Sentiment</th>\n",
       "    </tr>\n",
       "  </thead>\n",
       "  <tbody>\n",
       "    <tr>\n",
       "      <th>0</th>\n",
       "      <td>0</td>\n",
       "      <td>601</td>\n",
       "      <td>967</td>\n",
       "      <td>@afuahirsch talks wisely on #LegaliseCannabis ...</td>\n",
       "      <td>afuahirsch talks wisely legalisecannabis debat...</td>\n",
       "      <td>Positive</td>\n",
       "    </tr>\n",
       "    <tr>\n",
       "      <th>2</th>\n",
       "      <td>2</td>\n",
       "      <td>603</td>\n",
       "      <td>658</td>\n",
       "      <td>RT @TWERadio: .@KentCovington reports today's ...</td>\n",
       "      <td>tweradio kentcovington reports today news cove...</td>\n",
       "      <td>Positive</td>\n",
       "    </tr>\n",
       "    <tr>\n",
       "      <th>4</th>\n",
       "      <td>4</td>\n",
       "      <td>605</td>\n",
       "      <td>1006</td>\n",
       "      <td>RT @SolidarityScot: Cannabis should be complet...</td>\n",
       "      <td>solidarityscot cannabis completely legalised l...</td>\n",
       "      <td>Positive</td>\n",
       "    </tr>\n",
       "    <tr>\n",
       "      <th>6</th>\n",
       "      <td>6</td>\n",
       "      <td>607</td>\n",
       "      <td>441</td>\n",
       "      <td>RT @GovCanHealth: .@CDNMinHealth, Minister of ...</td>\n",
       "      <td>govcanhealth cdnminhealth minister minister ju...</td>\n",
       "      <td>Positive</td>\n",
       "    </tr>\n",
       "    <tr>\n",
       "      <th>8</th>\n",
       "      <td>8</td>\n",
       "      <td>609</td>\n",
       "      <td>508</td>\n",
       "      <td>RT @Puglaas: Pleased to see #C45 and #C46 rece...</td>\n",
       "      <td>puglaas pleased see receive royal assent bills...</td>\n",
       "      <td>Positive</td>\n",
       "    </tr>\n",
       "    <tr>\n",
       "      <th>11</th>\n",
       "      <td>11</td>\n",
       "      <td>612</td>\n",
       "      <td>541</td>\n",
       "      <td>RT @Puglaas: Ravie de voir #C45/#C46 recevoir ...</td>\n",
       "      <td>puglaas ravie voir recevoir sanction royale il...</td>\n",
       "      <td>Positive</td>\n",
       "    </tr>\n",
       "    <tr>\n",
       "      <th>13</th>\n",
       "      <td>13</td>\n",
       "      <td>614</td>\n",
       "      <td>361</td>\n",
       "      <td>RT @Remploymentlaw: Bill C-45, the govt’s #mar...</td>\n",
       "      <td>remploymentlaw bill govt marijuana legalizatio...</td>\n",
       "      <td>Positive</td>\n",
       "    </tr>\n",
       "    <tr>\n",
       "      <th>14</th>\n",
       "      <td>14</td>\n",
       "      <td>615</td>\n",
       "      <td>409</td>\n",
       "      <td>RT @GovCanHealth: .@CDNMinHealth, Minister of ...</td>\n",
       "      <td>govcanhealth cdnminhealth minister minister ju...</td>\n",
       "      <td>Positive</td>\n",
       "    </tr>\n",
       "    <tr>\n",
       "      <th>15</th>\n",
       "      <td>15</td>\n",
       "      <td>616</td>\n",
       "      <td>529</td>\n",
       "      <td>RT @Puglaas: So very pleased to see that #C46 ...</td>\n",
       "      <td>puglaas pleased see passed senate new law stre...</td>\n",
       "      <td>Positive</td>\n",
       "    </tr>\n",
       "  </tbody>\n",
       "</table>\n",
       "</div>"
      ],
      "text/plain": [
       "    Unnamed: 0  Row_Number  Tweet_Num  \\\n",
       "0            0         601        967   \n",
       "2            2         603        658   \n",
       "4            4         605       1006   \n",
       "6            6         607        441   \n",
       "8            8         609        508   \n",
       "11          11         612        541   \n",
       "13          13         614        361   \n",
       "14          14         615        409   \n",
       "15          15         616        529   \n",
       "\n",
       "                                                Tweet  \\\n",
       "0   @afuahirsch talks wisely on #LegaliseCannabis ...   \n",
       "2   RT @TWERadio: .@KentCovington reports today's ...   \n",
       "4   RT @SolidarityScot: Cannabis should be complet...   \n",
       "6   RT @GovCanHealth: .@CDNMinHealth, Minister of ...   \n",
       "8   RT @Puglaas: Pleased to see #C45 and #C46 rece...   \n",
       "11  RT @Puglaas: Ravie de voir #C45/#C46 recevoir ...   \n",
       "13  RT @Remploymentlaw: Bill C-45, the govt’s #mar...   \n",
       "14  RT @GovCanHealth: .@CDNMinHealth, Minister of ...   \n",
       "15  RT @Puglaas: So very pleased to see that #C46 ...   \n",
       "\n",
       "                                    tokenized_cleaned Sentiment  \n",
       "0   afuahirsch talks wisely legalisecannabis debat...  Positive  \n",
       "2   tweradio kentcovington reports today news cove...  Positive  \n",
       "4   solidarityscot cannabis completely legalised l...  Positive  \n",
       "6   govcanhealth cdnminhealth minister minister ju...  Positive  \n",
       "8   puglaas pleased see receive royal assent bills...  Positive  \n",
       "11  puglaas ravie voir recevoir sanction royale il...  Positive  \n",
       "13  remploymentlaw bill govt marijuana legalizatio...  Positive  \n",
       "14  govcanhealth cdnminhealth minister minister ju...  Positive  \n",
       "15  puglaas pleased see passed senate new law stre...  Positive  "
      ]
     },
     "execution_count": 177,
     "metadata": {},
     "output_type": "execute_result"
    }
   ],
   "source": [
    "pos_tweets_df[0:9]\n",
    "\n"
   ]
  },
  {
   "cell_type": "code",
   "execution_count": 161,
   "metadata": {
    "collapsed": true
   },
   "outputs": [
    {
     "name": "stdout",
     "output_type": "stream",
     "text": [
      "{'crifici': 31, 'unfortunate': 126, 'predictable': 99, 'bad': 10, 'cannabis': 18, 'policy': 95, 'made': 82, 'law': 68, 'look': 80, 'forward': 49, 'working': 137, 'kirktousaw': 65, 'iliveasnatalie': 57, 'professional': 101, 'within': 135, 'construction': 27, 'industry': 59, 'concerned': 25, 'legalization': 75, 'marijuana': 85, 'affect': 2, 'understand': 125, 'often': 92, 'commented': 23, 'many': 84, 'ways': 132, 'act': 0, 'flawed': 47, 'restrictive': 110, 'still': 118, 'monopolization': 89, 'large': 67, 'growers': 52, 'second': 115, 'created': 30, 'like': 79, 'new': 90, 'regulations': 108, 'https': 56, 'jodieemery': 62, 'waiting': 131, 'trudeau': 122, 'decriminalize': 34, 'pot': 97, 'wrote': 139, 'years': 140, 'ago': 3, 'justintrudeau': 64, 'refuses': 107, 'end': 46, 'drugpolicyorg': 42, 'disappointed': 36, 'learn': 73, 'none': 91, 'committee': 24, 'leaders': 72, 'willing': 133, 'let': 76, 'reform': 106, 'bclarahan': 11, 'momentarily': 88, 'discuss': 37, 'cannabisact': 19, 'good': 50, 'ugly': 123, 'criminal': 32, 'letter': 77, 'one': 93, 'written': 138, 'asking': 7, 'unjust': 127, 'possession': 96, 'arrests': 6, 'random': 105, 'breath': 16, 'testing': 119, 'coming': 22, 'canada': 17, 'counsel': 28, 'foresee': 48, 'charter': 21, 'attacks': 9, 'early': 43, 'gptaylormrd': 51, 'puglaas': 103, 'ralphgoodale': 104, 'billblair': 15, 'laws': 69, 'defeated': 35, 'court': 29, 'lawyers': 70, 'association': 8, 'seems': 116, 'bigoted': 14, 'say': 113, 'increased': 58, 'roadside': 112, 'police': 94, 'powers': 98, 'lawyersdailyca': 71, 'cannabishelpsme': 20, 'kiss': 66, 'drivers': 40, 'license': 78, 'medpot': 87, 'user': 129, 'unconstitutional': 124, 'willontheradio': 134, 'jazfor': 60, 'justicecanadaen': 63, 'makes': 83, 'anyone': 5, 'smoked': 117, 'days': 33, 'driving': 41, 'thc': 120, 'lrlaverdehansen': 81, 'biggest': 13, 'concerns': 26, 'products': 100, 'heard': 54, 'big': 12, 'tobacco': 121, 'amp': 4, 'risks': 111, 'doctors': 38, 'reminding': 109, 'public': 102, 'health': 53, 'effects': 44, 'use': 128, 'work': 136, 'done': 39, 'yet': 141, 'legal': 74, 'advocate': 1, 'jodie': 61, 'emery': 45, 'says': 114, 'vote': 130, 'may': 86, 'historic': 55}\n"
     ]
    }
   ],
   "source": [
    "neg_tweets_df=data2.loc[data2['Sentiment'] == 'Negative']\n",
    "neg_tweets_df[0:9]\n",
    "\n",
    "\n",
    "neg_tweets_words=neg_tweets_df['tokenized_cleaned'].tolist()\n",
    "\n",
    "\n",
    "from sklearn.feature_extraction.text import CountVectorizer\n",
    "vec1neg=CountVectorizer()\n",
    "vec1neg.fit_transform(neg_tweets_words)\n",
    "print(vec1neg.vocabulary_)\n"
   ]
  },
  {
   "cell_type": "code",
   "execution_count": 168,
   "metadata": {
    "collapsed": true
   },
   "outputs": [
    {
     "name": "stdout",
     "output_type": "stream",
     "text": [
      "{'cannabisact': 79, 'morning': 342, 'comes': 103, 'supply': 475, 'anxiety': 30, 'https': 245, 'cannabis': 78, 'weedmafiaclub': 533, 'marijuana': 318, 'weed': 532, 'voiceover': 519, 'guy': 224, 'brain': 61, 'drugs': 161, 'psa': 406, 'wants': 524, 'legalization': 297, 'tokerware': 494, 'come': 102, 'chuckgrassley': 96, 'wtf': 548, 'let': 305, 'see': 447, 'passes': 381, 'merit': 336, 'republican': 430, 'grassley': 218, 'planning': 387, 'recreational': 418, 'use': 510, 'legal': 293, 'affect': 11, 'jodieemery': 270, 'joins': 272, 'anthonyfurey': 29, 'canborder': 74, 'even': 175, 'though': 490, 'regulated': 422, 'canada': 70, 'near': 353, 'future': 202, 'still': 467, 'able': 2, 'bring': 64, 'dougford': 152, 'consultations': 112, 'sales': 440, 'ontario': 370, 'ford': 195, 'elected': 168, 'fordnation': 196, 'realize': 415, 'start': 464, 'waste': 526, 'integrating': 261, 'existing': 179, 'industry': 256, 'would': 546, 'create': 121, 'jobs': 269, 'countdown': 118, 'october': 363, 'begin': 48, 'doug': 151, 'already': 19, 'paid': 372, 'cannabistaskforce': 82, 'read': 412, 'armandconant': 36, 'clear': 100, 'adult': 10, 'canadians': 72, 'access': 3, 'time': 492, 'occupywsib': 362, 'month': 341, 'govcanhealth': 213, 'check': 92, 'topten': 497, 'things': 488, 'need': 354, 'know': 282, 'regulation': 423, 'abigailbimman': 1, 'random': 410, 'breathalyzer': 63, 'tests': 482, 'december': 137, 'got': 212, 'royal': 437, 'assent': 41, 'part': 376, 'effective': 166, 'dailyhit': 131, 'financial': 190, 'news': 357, 'tgod': 484, 'igc': 250, 'hexo': 237, 'marijuananews': 320, 'marijuanastocks': 321, 'gmr': 210, 'government': 214, 'announced': 26, 'date': 133, 'act': 6, 'bill': 51, 'force': 194, 'drex': 155, 'tonight': 496, 'theshiftwithdrex': 487, 'chat': 91, 'current': 127, 'laws': 286, 'around': 37, 'amp': 24, 'driving': 158, 'could': 116, 'daviddinenberg': 134, 'montereybud': 340, 'texasrepublicans': 483, 'apparently': 32, 'ready': 413, 'discuss': 147, 'marijuanadecriminalization': 319, 'industrialhempcultivation': 255, 'cannabiscci': 80, 'canadian': 71, 'acmpr': 5, 'needs': 355, 'moving': 344, 'forward': 200, 'andrewjwilder': 25, 'received': 416, 'governor': 215, 'general': 204, 'however': 244, 'according': 4, 'prime': 401, 'minister': 338, 'trudeau': 503, 'return': 433, 'home': 242, 'rick': 434, 'earth': 165, 'made': 314, 'receives': 417, 'regulations': 424, 'wednesday': 530, 'june': 275, 'tokerwaredotcom': 495, 'talk': 478, 'community': 106, 'mjinvestorideas': 339, 'investor': 263, 'ideas': 249, 'potcasts': 396, 'stocks': 469, 'move': 343, 'tsx': 504, 'cse': 123, 'massachusetts': 323, 'theleafnews': 486, 'medical': 330, 'user': 511, 'grow': 220, 'amount': 23, 'plants': 388, 'health': 232, 'regs': 421, 'plus': 390, 'boom': 59, 'new': 356, 'ruler': 439, 'going': 211, 'stall': 463, 'scotlandstalkin': 444, 'sunday': 474, 'tell': 480, 'think': 489, 'calls': 68, 'drop': 159, 'war': 525, 'cannabidiol': 77, 'cbd': 87, 'sanjay': 441, 'gupta': 223, 'dravet': 153, 'syndrome': 476, 'medicine': 334, 'society': 459, 'healthcare': 233, 'roll': 436, 'differently': 145, 'blog': 56, 'people': 385, 'present': 397, 'ceremony': 89, 'senateca': 450, 'billblair': 52, 'senjaffer': 452, 'bardishkw': 44, 'joingreenrush': 271, 'officially': 366, 'legalized': 299, 'second': 445, 'country': 119, 'world': 545, 'pass': 379, 'law': 285, 'comprehensive': 110, 'article': 38, 'shares': 457, 'evidence': 176, 'examines': 177, 'beliefs': 49, 'effects': 167, 'sets': 455, 'legalize': 298, 'want': 522, 'eliminate': 169, 'illegal': 251, 'massive': 324, 'black': 55, 'market': 322, 'senca': 451, 'cdnpoli': 88, 'gtigrows': 221, 'medicalmarijuana': 332, 'helps': 236, 'reduce': 420, 'opioid': 371, 'addiction': 9, 'related': 426, 'deaths': 135, 'presides': 398, 'royalassent': 438, 'suburbanfinance': 471, 'stable': 462, 'careers': 84, 'available': 42, 'vineshpratap': 518, 'answer': 28, 'question': 407, 'today': 493, 'globaledmonton': 208, 'high': 238, 'equivalent': 173, 'alcohol': 16, 'yeg': 549, 'watch': 527, 'questions': 408, 'remain': 427, 'key': 280, 'among': 22, 'cultivation': 125, 'impaired': 252, 'pardons': 375, 'legalisecannabis': 295, 'set': 454, 'field': 188, 'headed': 231, 'murky': 345, 'waters': 528, 'induction': 254, 'heating': 235, 'vaporizers': 513, 'leafly': 289, 'canadá': 73, 'luz': 313, 'verde': 514, 'uso': 512, 'recreativo': 419, 'marihuana': 317, 'médicodelfuturo': 349, 'actualidad': 7, 'trinafraser': 501, 'link': 308, 'version': 515, 'embedded': 170, 'links': 309, 'forum': 199, 'natickma': 350, 'officials': 367, 'hear': 234, 'residents': 432, 'issue': 266, 'njdotcom': 359, 'exclusive': 178, 'jersey': 268, 'happening': 227, 'right': 435, 'legislature': 304, 'doa': 149, 'kaly': 278, 'kalytera': 279, 'provides': 405, 'update': 509, 'lead': 287, 'program': 404, 'prevention': 399, 'treatment': 500, 'gvhd': 225, 'stockhouse': 468, 'cannabisculture': 81, 'believe': 50, 'hype': 248, 'criminals': 122, 'leafbuyer': 288, 'oklahoma': 368, 'getting': 206, 'vote': 520, 'early': 164, 'voting': 521, 'underway': 507, 'one': 369, 'brokers': 65, 'facilitate': 183, 'insurance': 260, 'welcome': 539, 'legalizes': 300, 'becoming': 47, 'allow': 18, 'medicinal': 333, 'hands': 226, 'looking': 310, 'lot': 311, 'fascinating': 184, 'pain': 373, 'group': 219, 'cancels': 76, 'doctor': 150, 'training': 498, 'spokeswoman': 461, 'megandrumm': 335, 'says': 443, 'request': 431, 'cancel': 75, 'realchristinal': 414, 'breaking': 62, 'legalizing': 301, 'cleared': 101, 'final': 189, 'legislative': 303, 'hurdle': 247, 'asked': 39, 'panel': 374, 'experts': 181, 'learn': 290, 'wanted': 523, 'get': 205, 'weedmaps': 534, 'choose': 94, 'selling': 448, 'consuming': 113, 'harvestmedicine': 229, 'lps': 312, 'offer': 365, 'compassionate': 108, 'pricing': 400, 'form': 198, 'another': 27, 'post': 393, 'womeninforensic': 543, 'womeninforensics': 544, 'forensics': 197, 'investors': 264, 'may': 326, 'started': 465, 'pot': 394, 'florida': 192, 'appealscourt': 33, 'grants': 217, 'stay': 466, 'juicing': 273, 'case': 85, 'fully': 201, 'italy': 267, 'completely': 109, 'ban': 43, 'companies': 107, 'face': 182, 'learning': 291, 'curve': 128, 'employee': 171, 'expert': 180, 'launching': 284, 'july': 274, 'zero': 551, 'commercial': 105, 'business': 66, 'licenses': 307, 'travel': 499, 'nichecanada': 358, 'approves': 34, 'becomes': 46, 'nation': 351, 'vice': 516, 'gmiwh': 209, 'host': 243, 'weighs': 538, 'upcoming': 508, 'podcast': 392, 'guests': 222, 'legalises': 296, 'coz': 120, 'udtapunjab': 506, 'fnghadaki': 193, 'coo': 115, 'cambattley': 69, 'shared': 456, 'thoughts': 491, 'victory': 517, 'cityofvancouver': 99, 'amendments': 21, 'zoning': 553, 'development': 143, 'licence': 306, 'align': 17, 'wheels': 540, 'medford': 329, 'city': 98, 'council': 117, 'debates': 136, 'delivered': 139, 'christyandfras': 95, 'grande': 216, 'installation': 259, 'intérieure': 262, 'culture': 126, 'des': 141, 'fins': 191, 'médicales': 348, 'québec': 409, 'trouvera': 502, 'dans': 132, 'bclarahan': 45, 'thanks': 485, 'smoke': 458, 'suffer': 472, 'stricter': 470, 'dui': 163, 'yesterday': 550, 'aakuraj': 0, 'mandymcknight': 316, 'also': 20, 'happens': 228, 'birthday': 54, 'ziggymarley': 552, 'hocchamber': 240, 'hocspeaker': 241, 'informed': 257, 'hoc': 239, 'given': 207, 'bills': 53, 'initially': 258, 'aimed': 15, 'summer': 473, 'passed': 380, 'senate': 449, 'coming': 104, 'aged': 13, 'depending': 140, 'mzblack': 347, 'patients': 383, 'afford': 12, 'medicalcannabis': 331, 'piccoloheathllp': 386, 'weeds': 535, 'report': 429, 'cindyingramllb': 97, 'passing': 382, 'matthew': 325, 'take': 477, 'leaving': 292, 'conversationca': 114, 'different': 144, 'drunk': 162, 'drivers': 157, 'tend': 481, 'drive': 156, 'faster': 185, 'whereas': 541, 'dabadolabs': 130, 'bolt': 58, 'pro': 402, 'kit': 281, 'dabado': 129, 'ago': 14, 'repair': 428, 'service': 453, 'anymore': 31, 'asking': 40, 'nunavut': 361, 'last': 283, 'jurisdiction': 276, 'legislation': 302, 'two': 505, 'changes': 90, 'probably': 403, 'wrong': 547, 'way': 529, 'measure': 328, 'acute': 8, 'impairment': 253, 'call': 67, 'cultivate': 124, 'capital': 83, 'bloomthc': 57, 'reached': 411, 'milestone': 337, 'justin': 277, 'weedsmen': 536, 'potcast': 395, 'nugget': 360, 'space': 460, 'octopus': 364, 'humor': 246, 'geek': 203, 'detroit': 142, 'conservative': 111, 'erinotoolemp': 174, 'means': 327, 'discover': 146, 'end': 172, 'play': 389, 'winning': 542, 'deck': 138, 'penetration': 384, 'secret': 446, 'sauce': 442, 'argcro': 35, 'iraesp': 265, 'fearcastj': 186, 'rejoice': 425, 'fellow': 187, 'drawing': 154, 'madeincanada': 315, 'wednesdaywisdom': 531, 'boycottusa': 60, 'catch': 86, 'teamcrestviewstrategy': 479, 'partner': 378, 'hckosovogta': 230, 'pnpcbc': 391, 'discussing': 148, 'legalisation': 294, 'partake': 377, 'music': 346, 'drug': 160, 'choice': 93, 'natpostradio': 352, 'weigh': 537}\n"
     ]
    }
   ],
   "source": [
    "neutral_tweets_df=data2.loc[data2['Sentiment'] == 'Neutral']\n",
    "neutral_tweets_df[0:9]\n",
    "\n",
    "\n",
    "neutral_tweets_words=neutral_tweets_df['tokenized_cleaned'].tolist()\n",
    "\n",
    "\n",
    "from sklearn.feature_extraction.text import CountVectorizer\n",
    "vec1neut=CountVectorizer()\n",
    "vec1neut.fit_transform(neutral_tweets_words)\n",
    "print(vec1neut.vocabulary_)\n"
   ]
  },
  {
   "cell_type": "code",
   "execution_count": 176,
   "metadata": {
    "collapsed": true
   },
   "outputs": [
    {
     "data": {
      "text/plain": [
       "aan                   2\n",
       "abcadelaide           1\n",
       "absolutely            1\n",
       "acb                   1\n",
       "access                4\n",
       "across                2\n",
       "act                  13\n",
       "active                1\n",
       "activists             1\n",
       "add                   1\n",
       "adolescents           4\n",
       "adoptée              17\n",
       "advocates             1\n",
       "afterworkwellness     1\n",
       "afuahirsch            2\n",
       "agree                 1\n",
       "airing                1\n",
       "alberta               1\n",
       "alcohol               1\n",
       "alimentation          2\n",
       "alla                  1\n",
       "allowing              1\n",
       "almost                1\n",
       "alt                   1\n",
       "always                2\n",
       "amend                 1\n",
       "america               1\n",
       "american              1\n",
       "amp                  23\n",
       "ampleorganics         1\n",
       "                     ..\n",
       "weedstagram           1\n",
       "week                 10\n",
       "welcomes              1\n",
       "well                  5\n",
       "wheretobuyvapes       1\n",
       "wietproef             2\n",
       "win                   7\n",
       "wine                  1\n",
       "winning               1\n",
       "wisely                2\n",
       "witchymermaid         1\n",
       "within                2\n",
       "witnessed             1\n",
       "wonder                1\n",
       "words                 1\n",
       "work                  2\n",
       "worked                6\n",
       "working               2\n",
       "world                10\n",
       "would                 4\n",
       "year                  2\n",
       "years                16\n",
       "yes                   1\n",
       "yesterday             1\n",
       "ygreck               17\n",
       "yvrscreenscene        1\n",
       "zenabis               3\n",
       "zieloni               1\n",
       "zwolle                2\n",
       "świecie               1\n",
       "Length: 915, dtype: int64"
      ]
     },
     "execution_count": 176,
     "metadata": {},
     "output_type": "execute_result"
    }
   ],
   "source": [
    "import pandas as pd\n",
    "vec1pos_df=pd.DataFrame(vec1pos.transform(pos_tweets_words).toarray(),columns=vec1pos.get_feature_names())\n",
    "vec1pos_freq=vec1pos_df.sum()\n",
    "vec1pos_freq\n"
   ]
  },
  {
   "cell_type": "code",
   "execution_count": 181,
   "metadata": {
    "scrolled": true
   },
   "outputs": [
    {
     "data": {
      "text/plain": [
       "act                  3\n",
       "advocate             2\n",
       "affect              17\n",
       "ago                  1\n",
       "amp                  1\n",
       "anyone               1\n",
       "arrests              1\n",
       "asking               1\n",
       "association          1\n",
       "attacks              3\n",
       "bad                  5\n",
       "bclarahan            1\n",
       "big                  1\n",
       "biggest              1\n",
       "bigoted              1\n",
       "billblair            1\n",
       "breath               3\n",
       "canada               3\n",
       "cannabis             8\n",
       "cannabisact          2\n",
       "cannabishelpsme      1\n",
       "charter              4\n",
       "coming               3\n",
       "commented            3\n",
       "committee            1\n",
       "concerned           17\n",
       "concerns             1\n",
       "construction        17\n",
       "counsel              3\n",
       "court                1\n",
       "                    ..\n",
       "roadside             1\n",
       "say                  1\n",
       "says                 1\n",
       "second               2\n",
       "seems                1\n",
       "smoked               1\n",
       "still                5\n",
       "testing              3\n",
       "thc                  1\n",
       "tobacco              1\n",
       "trudeau              1\n",
       "ugly                 2\n",
       "unconstitutional     1\n",
       "understand           3\n",
       "unfortunate          2\n",
       "unjust               1\n",
       "use                  1\n",
       "user                 1\n",
       "vote                 1\n",
       "waiting              1\n",
       "ways                 3\n",
       "willing              1\n",
       "willontheradio       1\n",
       "within              18\n",
       "work                 1\n",
       "working              2\n",
       "written              1\n",
       "wrote                1\n",
       "years                1\n",
       "yet                  1\n",
       "Length: 142, dtype: int64"
      ]
     },
     "execution_count": 181,
     "metadata": {},
     "output_type": "execute_result"
    }
   ],
   "source": [
    "import pandas as pd\n",
    "vec1neg_df=pd.DataFrame(vec1neg.transform(neg_tweets_words).toarray(),columns=vec1neg.get_feature_names())\n",
    "vec1neg_freq=vec1neg_df.sum()\n",
    "vec1neg_freq"
   ]
  },
  {
   "cell_type": "code",
   "execution_count": 182,
   "metadata": {
    "collapsed": true
   },
   "outputs": [
    {
     "data": {
      "text/plain": [
       "aakuraj              1\n",
       "abigailbimman        1\n",
       "able                13\n",
       "access               5\n",
       "according            1\n",
       "acmpr                1\n",
       "act                  2\n",
       "actualidad           1\n",
       "acute                1\n",
       "addiction            2\n",
       "adult                2\n",
       "affect               3\n",
       "afford               1\n",
       "aged                 1\n",
       "ago                  1\n",
       "aimed                1\n",
       "alcohol              5\n",
       "align                1\n",
       "allow                1\n",
       "already              2\n",
       "also                 1\n",
       "amendments           1\n",
       "among                2\n",
       "amount               2\n",
       "amp                  6\n",
       "andrewjwilder        1\n",
       "announced            1\n",
       "another              1\n",
       "answer               3\n",
       "anthonyfurey         4\n",
       "                    ..\n",
       "wants                7\n",
       "war                  3\n",
       "waste                2\n",
       "watch                2\n",
       "waters               1\n",
       "way                  1\n",
       "wednesday            2\n",
       "wednesdaywisdom      1\n",
       "weed                11\n",
       "weedmafiaclub        5\n",
       "weedmaps             1\n",
       "weeds                1\n",
       "weedsmen             1\n",
       "weigh                1\n",
       "weighs               1\n",
       "welcome              1\n",
       "wheels               1\n",
       "whereas              2\n",
       "winning              1\n",
       "womeninforensic      1\n",
       "womeninforensics     1\n",
       "world                2\n",
       "would                3\n",
       "wrong                1\n",
       "wtf                  3\n",
       "yeg                  3\n",
       "yesterday            2\n",
       "zero                 1\n",
       "ziggymarley          1\n",
       "zoning               1\n",
       "Length: 554, dtype: int64"
      ]
     },
     "execution_count": 182,
     "metadata": {},
     "output_type": "execute_result"
    }
   ],
   "source": [
    "import pandas as pd\n",
    "vec1neut_df=pd.DataFrame(vec1neut.transform(neutral_tweets_words).toarray(),columns=vec1neut.get_feature_names())\n",
    "vec1neut_freq=vec1neut_df.sum()\n",
    "vec1neut_freq"
   ]
  }
 ],
 "metadata": {
  "kernelspec": {
   "display_name": "Python 3",
   "language": "python",
   "name": "python3"
  },
  "language_info": {
   "codemirror_mode": {
    "name": "ipython",
    "version": 3
   },
   "file_extension": ".py",
   "mimetype": "text/x-python",
   "name": "python",
   "nbconvert_exporter": "python",
   "pygments_lexer": "ipython3",
   "version": "3.6.4"
  }
 },
 "nbformat": 4,
 "nbformat_minor": 2
}
